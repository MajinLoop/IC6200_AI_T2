{
 "cells": [
  {
   "cell_type": "markdown",
   "id": "eea6fa73-1d5f-41b2-8dc4-93e3a37483bb",
   "metadata": {},
   "source": [
    "<!-- PROJECT LOGO -->\n",
    "<br />\n",
    "<div align=\"center\">\n",
    "  <a>\n",
    "    <img src=\"https://res.cloudinary.com/dek4evg4t/image/upload/v1727075740/embedx.png\" alt=\"Logo\" width=\"40%\">\n",
    "  </a>\n",
    "</div>\n",
    "\n",
    "\n",
    "### 🖹 Descripción: \n",
    "El presente notebook demuestra la implementación de un chatbot basado en embeddings de texto utilizando técnicas de comparación de similitud de coseno. El chatbot recibe preguntas en lenguaje natural, convierte las posibles respuestas en embeddings y selecciona la más relevante comparando los vectores de las respuestas con el de la pregunta. El propósito del chatbot es responder de manera coherente dentro de un conjunto limitado de respuestas predefinidas.\n",
    "\n",
    "\n",
    "### ✍️ Autores: \n",
    "* Angelo Ortiz Vega - [@angelortizv](https://github.com/angelortizv)\n",
    "* Alejandro Campos Abarca - [@MajinLoop](https://github.com/MajinLoop)\n",
    "\n",
    "### 📅 Fecha: \n",
    "23 de septiembre de 2024.\n",
    "\n",
    "### 📝 Notas: \n",
    "- Asegurarse de que Python esté instalado, junto con bibliotecas necesarias como numpy, scipy, y spaCy.\n",
    "- El notebook utiliza embeddings preentrenados para las respuestas, por lo que no se entrena un modelo de embeddings desde cero.\n",
    "- Es fundamental cargar correctamente el conjunto de respuestas predefinidas y transformarlas en embeddings antes de recibir las preguntas de los usuarios.\n",
    "- Se recomienda utilizar la similitud de coseno como métrica para comparar el vector de la pregunta con los vectores de las respuestas.\n",
    "- El chatbot responde con la respuesta que tenga la mayor similitud con la pregunta recibida."
   ]
  },
  {
   "cell_type": "markdown",
   "id": "a417e5eb-4a91-49c7-8dc5-c4c403280940",
   "metadata": {},
   "source": [
    "# 1. Definir el propósito y las respuestas del chatbot\n",
    "\n",
    "Primero, definimos el propósito del chatbot y las respuestas posibles.\n"
   ]
  },
  {
   "cell_type": "markdown",
   "id": "9dfa0e70-f5dd-4f51-a075-7411ed277d9c",
   "metadata": {},
   "source": [
    "## 1.1. Definir propósito"
   ]
  },
  {
   "cell_type": "code",
   "execution_count": 164,
   "id": "02aa0d45-600f-4928-b120-0ec623a0c5fb",
   "metadata": {},
   "outputs": [
    {
     "name": "stdout",
     "output_type": "stream",
     "text": [
      "\n",
      "El chatbot será un asistente virtual que responderá preguntas comunes relacionadas con temas de tecnología.\n",
      "Contará con 10 respuestas predefinidas que cubren temas como inteligencia artificial, machine learning, bases de datos, y programación.\n",
      "\n"
     ]
    }
   ],
   "source": [
    "purpose = \"\"\"\n",
    "El chatbot será un asistente virtual que responderá preguntas comunes relacionadas con temas de tecnología.\n",
    "Contará con 10 respuestas predefinidas que cubren temas como inteligencia artificial, machine learning, bases de datos, y programación.\n",
    "\"\"\"\n",
    "print(purpose)"
   ]
  },
  {
   "cell_type": "markdown",
   "id": "c358aadb-0bd0-4a82-beb4-3e3149e45e3b",
   "metadata": {},
   "source": [
    "## 1.2. Definir respuestas"
   ]
  },
  {
   "cell_type": "code",
   "execution_count": 165,
   "id": "449edd1d-a177-41ac-ba48-ac6fbccc0b70",
   "metadata": {},
   "outputs": [],
   "source": [
    "answers = [\n",
    "    \"La inteligencia artificial es una rama de la informática que busca crear sistemas que imiten la inteligencia humana.\",\n",
    "    \"El aprendizaje automático es una subrama de la IA que se enfoca en crear modelos que puedan aprender de los datos.\",\n",
    "    \"Las bases de datos relacionales almacenan datos en tablas que se pueden relacionar entre sí.\",\n",
    "    \"Python es un lenguaje de programación popular por su simplicidad y versatilidad.\",\n",
    "    \"Machine learning se refiere a algoritmos que aprenden de los datos para hacer predicciones o tomar decisiones.\",\n",
    "    \"Existen varios frameworks para deep learning como TensorFlow y PyTorch.\",\n",
    "    \"El procesamiento de lenguaje natural es una rama de la IA que trabaja con el entendimiento de lenguaje humano.\",\n",
    "    \"Un algoritmo de clasificación asigna una categoría a una observación basada en sus características.\",\n",
    "    \"Para realizar consultas en bases de datos SQL se utiliza el lenguaje de consulta estructurado.\",\n",
    "    \"El desarrollo ágil es una metodología que se enfoca en la entrega continua y colaborativa de software.\"\n",
    "]"
   ]
  },
  {
   "cell_type": "markdown",
   "id": "2d99889d-777f-4d17-a7aa-646878d83cf9",
   "metadata": {},
   "source": [
    "# 2. Transformar las respuestas en embeddings y crear un dataset de conocimiento\n",
    "\n",
    "Utilizaremos spaCy (https://spacy.io/) para convertir las respuestas en embeddings."
   ]
  },
  {
   "cell_type": "markdown",
   "id": "3a7f7743-4918-4ade-9219-b00e3adb8bd1",
   "metadata": {},
   "source": [
    "## 2.1. Instalar e importar bibliotecas necesarias"
   ]
  },
  {
   "cell_type": "code",
   "execution_count": 166,
   "id": "b6058a6f-0166-4f91-8dc6-ea4ed63c08c1",
   "metadata": {},
   "outputs": [],
   "source": [
    "#!pip install spacy\n",
    "#!python -m spacy download es_core_news_md\n",
    "\n",
    "import spacy\n",
    "import numpy as np\n",
    "from scipy.spatial.distance import cosine"
   ]
  },
  {
   "cell_type": "markdown",
   "id": "d98ad5e4-be7e-4d85-845d-bb6b6f7484a4",
   "metadata": {},
   "source": [
    "## 2.2. Cargar modelo de spaCy para embeddings en español"
   ]
  },
  {
   "cell_type": "markdown",
   "id": "29babc34-f3ff-43bc-aaf7-559d2666cc9b",
   "metadata": {},
   "source": [
    "La siguiente linea carga un modelo preentrenado de procesamiento del lenguaje natural en español utilizando la biblioteca spaCy. \n",
    "\n",
    "El modelo es de tamaño mediano y ofrece un equilibrio entre precisión y rendimiento. Al utilizar el objeto nlp, se pueden realizar diversas tareas de análisis lingüístico, como la tokenización del texto, el etiquetado gramatical para identificar partes del habla, la vectorización de palabras para calcular similitudes y el reconocimiento de entidades nombradas. \n",
    "\n",
    "Referencias:\n",
    "- https://spacy.io/models/es\n",
    "- https://huggingface.co/spacy/es_core_news_md\n",
    "- https://fxis.ai/edu/how-to-use-the-spacy-spanish-model-es_core_news_md/"
   ]
  },
  {
   "cell_type": "code",
   "execution_count": 167,
   "id": "249c6f93-d01e-4e87-bdbc-92e5ea1220a7",
   "metadata": {},
   "outputs": [],
   "source": [
    "# Load spaCy model\n",
    "nlp = spacy.load(\"es_core_news_md\")"
   ]
  },
  {
   "cell_type": "markdown",
   "id": "172c01ee-ac53-4cf8-80b3-ac123a7f9b95",
   "metadata": {},
   "source": [
    "## 2.3. Convertir respuestas en embeddings"
   ]
  },
  {
   "cell_type": "code",
   "execution_count": 168,
   "id": "7d4434e6-f732-4963-aed9-8fc0cbe05877",
   "metadata": {},
   "outputs": [],
   "source": [
    "# Create the embeddings of the responses\n",
    "def generate_embeddings(answers):\n",
    "    return [nlp(answer).vector for answer in answers]\n",
    "\n",
    "# Embeddings of the answers\n",
    "embeddings_answers = generate_embeddings(answers)"
   ]
  },
  {
   "cell_type": "markdown",
   "id": "7302d677-e1ee-4999-bfb7-604b6c21ddf4",
   "metadata": {},
   "source": [
    "## 2.4. Almacenar los embeddings en un dataset de conocimiento"
   ]
  },
  {
   "cell_type": "code",
   "execution_count": 169,
   "id": "b37b38e9-359c-42a4-9f64-57ff885f3faf",
   "metadata": {},
   "outputs": [],
   "source": [
    "# Create a knowledge dataset with the answers and their embeddings\n",
    "embedex_dataset = list(zip(answers, embeddings_answers))"
   ]
  },
  {
   "cell_type": "markdown",
   "id": "07f53dd0-8158-4e18-b53d-0608c25fc887",
   "metadata": {},
   "source": [
    "# 3. Transformar la pregunta del usuario en embeddings\n",
    "\n",
    "Vamos a convertir la pregunta del usuario en un embedding de manera similar a las respuestas."
   ]
  },
  {
   "cell_type": "markdown",
   "id": "4fa7ce14-f7ca-486f-9037-bc4ffc3c828e",
   "metadata": {},
   "source": [
    "## 3.1. Solicitar una pregunta del usuario"
   ]
  },
  {
   "cell_type": "code",
   "execution_count": 170,
   "id": "1dee12a3-4732-42a0-a25e-7bee10f2a15e",
   "metadata": {},
   "outputs": [
    {
     "name": "stdin",
     "output_type": "stream",
     "text": [
      "Por favor, ingresa tu pregunta:  Qué es la Inteligencia Artificial?\n"
     ]
    }
   ],
   "source": [
    "question = input(\"Por favor, ingresa tu pregunta: \")"
   ]
  },
  {
   "cell_type": "markdown",
   "id": "4ac45ab8-89e6-4b32-ab89-d4e7e34f370e",
   "metadata": {},
   "source": [
    "## 3.2. Generar embedding de la pregunta"
   ]
  },
  {
   "cell_type": "code",
   "execution_count": 186,
   "id": "ece21a45-9cb9-48be-848a-cc747ee24fb2",
   "metadata": {},
   "outputs": [],
   "source": [
    "# Get the embedding of the user's question\n",
    "embedding_question = nlp(question).vector"
   ]
  },
  {
   "cell_type": "markdown",
   "id": "6699a9f1-0cb3-4abb-bfb0-ce36314dfaee",
   "metadata": {},
   "source": [
    "# 4. Comparar los embeddings con similitud de coseno y seleccionar la respuesta más acorde\n",
    "\n",
    "Utilizaremos la similitud de coseno para comparar el embedding de la pregunta del usuario con las respuestas y seleccionar la más similar."
   ]
  },
  {
   "cell_type": "markdown",
   "id": "6b9e98dc-102e-41e3-ac2e-608541e49101",
   "metadata": {},
   "source": [
    "## 4.1. Definir función para calcular la similitud de coseno"
   ]
  },
  {
   "cell_type": "code",
   "execution_count": 187,
   "id": "bf892973-04fa-426f-8a2d-6798e87ec76f",
   "metadata": {},
   "outputs": [],
   "source": [
    "from sklearn.metrics.pairwise import cosine_similarity\n",
    "\n",
    "def calculate_similarity(embedding1, embedding2):\n",
    "    return cosine_similarity([embedding1], [embedding2])[0][0]"
   ]
  },
  {
   "cell_type": "markdown",
   "id": "64fc2934-3c04-4aaf-9e01-6747cf55815d",
   "metadata": {},
   "source": [
    "## 4.2. Comparar el embedding de la pregunta con cada respuesta y seleccionar la más similar"
   ]
  },
  {
   "cell_type": "code",
   "execution_count": 188,
   "id": "10fff22b-8502-4a55-993a-b5baedc60b33",
   "metadata": {},
   "outputs": [
    {
     "name": "stdout",
     "output_type": "stream",
     "text": [
      "Respuesta más similar: El desarrollo ágil es una metodología que se enfoca en la entrega continua y colaborativa de software. (Similitud: 0.6127241849899292)\n"
     ]
    }
   ],
   "source": [
    "# Compare the question with the answers and find the most similar one\n",
    "def get_most_similar_answer(embedding_question, dataset):\n",
    "    similarities = [calculate_similarity(embedding_question, embedding_answer) for _, embedding_answer in dataset]\n",
    "    most_similar_index = np.argmax(similarities)\n",
    "    return dataset[most_similar_index][0], similarities[most_similar_index]\n",
    "\n",
    "# Get the most similar answer\n",
    "most_similar_answer, similarity = get_most_similar_answer(embedding_question, embedex_dataset)\n",
    "\n",
    "print(f\"Respuesta más similar: {most_similar_answer} (Similitud: {similarity})\")"
   ]
  },
  {
   "cell_type": "markdown",
   "id": "68026ba8-a019-4086-8d8d-875c47a61df7",
   "metadata": {},
   "source": [
    "# 5. Proceso para múltiples preguntas"
   ]
  },
  {
   "cell_type": "code",
   "execution_count": 189,
   "id": "795ead37-71a8-4c04-97ec-cc4de66d80c2",
   "metadata": {},
   "outputs": [],
   "source": [
    "user_questions = [\n",
    "    \"¿Qué es la inteligencia artificial?\", \n",
    "    \"¿Qué es Machine learning?\", # not answered correctly -- pending review\n",
    "    \"¿Qué son los embeddings de palabras?\",  # not based\n",
    "    \"Explícame sobre procesamiento del lenguaje natural\", \n",
    "    \"¿Para qué sirve un chatbot?\",  # not based\n",
    "    \"¿Qué es Python?\", \n",
    "    \"Frameworks para deep learning\",  \n",
    "    \"¿Qué es un modelo de lenguaje?\",  # not based\n",
    "    \"¿Cómo se aplica la IA en la vida cotidiana?\",  # not based\n",
    "    \"¿Qué es la minería de datos?\",  # not based\n",
    "    \"¿Cómo se evalúa el rendimiento de un modelo de machine learning?\",  # not based\n",
    "    \"Hablame sobre bases de datos relacionales\", # not answered correctly -- pending review\n",
    "    \"¿Qué asigna un algoritmo de clasificación?\", # not answered correctly -- pending review\n",
    "    \"¿Qué es el desarrollo ágil?\", # not answered correctly -- pending review\n",
    "    \"desarrollo agil\"\n",
    "]"
   ]
  },
  {
   "cell_type": "code",
   "execution_count": 190,
   "id": "c80b2cbb-c0eb-4e13-83f5-19c288a84bab",
   "metadata": {},
   "outputs": [
    {
     "name": "stdout",
     "output_type": "stream",
     "text": [
      "Pregunta 1: ¿Qué es la inteligencia artificial?\n",
      "Respuesta más acorde 1: La inteligencia artificial es una rama de la informática que busca crear sistemas que imiten la inteligencia humana. (Similitud: 0.56)\n",
      "--------------------------------------------------\n",
      "Pregunta 2: ¿Qué es Machine learning?\n",
      "Respuesta más acorde 2: Python es un lenguaje de programación popular por su simplicidad y versatilidad. (Similitud: 0.16)\n",
      "--------------------------------------------------\n",
      "Pregunta 3: ¿Qué son los embeddings de palabras?\n",
      "Respuesta más acorde 3: Machine learning se refiere a algoritmos que aprenden de los datos para hacer predicciones o tomar decisiones. (Similitud: 0.40)\n",
      "--------------------------------------------------\n",
      "Pregunta 4: Explícame sobre procesamiento del lenguaje natural\n",
      "Respuesta más acorde 4: El procesamiento de lenguaje natural es una rama de la IA que trabaja con el entendimiento de lenguaje humano. (Similitud: 0.81)\n",
      "--------------------------------------------------\n",
      "Pregunta 5: ¿Para qué sirve un chatbot?\n",
      "Respuesta más acorde 5: Python es un lenguaje de programación popular por su simplicidad y versatilidad. (Similitud: 0.23)\n",
      "--------------------------------------------------\n",
      "Pregunta 6: ¿Qué es Python?\n",
      "Respuesta más acorde 6: Python es un lenguaje de programación popular por su simplicidad y versatilidad. (Similitud: 0.19)\n",
      "--------------------------------------------------\n",
      "Pregunta 7: Frameworks para deep learning\n",
      "Respuesta más acorde 7: Existen varios frameworks para deep learning como TensorFlow y PyTorch. (Similitud: 0.63)\n",
      "--------------------------------------------------\n",
      "Pregunta 8: ¿Qué es un modelo de lenguaje?\n",
      "Respuesta más acorde 8: Python es un lenguaje de programación popular por su simplicidad y versatilidad. (Similitud: 0.55)\n",
      "--------------------------------------------------\n",
      "Pregunta 9: ¿Cómo se aplica la IA en la vida cotidiana?\n",
      "Respuesta más acorde 9: La inteligencia artificial es una rama de la informática que busca crear sistemas que imiten la inteligencia humana. (Similitud: 0.71)\n",
      "--------------------------------------------------\n",
      "Pregunta 10: ¿Qué es la minería de datos?\n",
      "Respuesta más acorde 10: La inteligencia artificial es una rama de la informática que busca crear sistemas que imiten la inteligencia humana. (Similitud: 0.64)\n",
      "--------------------------------------------------\n",
      "Pregunta 11: ¿Cómo se evalúa el rendimiento de un modelo de machine learning?\n",
      "Respuesta más acorde 11: El aprendizaje automático es una subrama de la IA que se enfoca en crear modelos que puedan aprender de los datos. (Similitud: 0.67)\n",
      "--------------------------------------------------\n",
      "Pregunta 12: Hablame sobre bases de datos relacionales\n",
      "Respuesta más acorde 12: Para realizar consultas en bases de datos SQL se utiliza el lenguaje de consulta estructurado. (Similitud: 0.82)\n",
      "--------------------------------------------------\n",
      "Pregunta 13: ¿Qué asigna un algoritmo de clasificación?\n",
      "Respuesta más acorde 13: El procesamiento de lenguaje natural es una rama de la IA que trabaja con el entendimiento de lenguaje humano. (Similitud: 0.47)\n",
      "--------------------------------------------------\n",
      "Pregunta 14: ¿Qué es el desarrollo ágil?\n",
      "Respuesta más acorde 14: Python es un lenguaje de programación popular por su simplicidad y versatilidad. (Similitud: 0.41)\n",
      "--------------------------------------------------\n",
      "Pregunta 15: desarrollo agil\n",
      "Respuesta más acorde 15: El desarrollo ágil es una metodología que se enfoca en la entrega continua y colaborativa de software. (Similitud: 0.61)\n",
      "--------------------------------------------------\n"
     ]
    }
   ],
   "source": [
    "user_responses = []\n",
    "\n",
    "for i, question in enumerate(user_questions):\n",
    "    print(f\"Pregunta {i + 1}: {question}\")\n",
    "    question_embedding = nlp(question).vector\n",
    "    \n",
    "    similarities = [1 - cosine(question_embedding, emb) for emb in embeddings_answers]\n",
    "    index_answer = np.argmax(similarities)\n",
    "    similarity_score = similarities[index_answer]\n",
    "    \n",
    "    response = answers[index_answer]\n",
    "\n",
    "    user_responses.append(response)\n",
    "\n",
    "    print(f\"Respuesta más acorde {i + 1}: {response} (Similitud: {similarity_score:.2f})\")\n",
    "    \n",
    "    print('-' * 50)"
   ]
  },
  {
   "cell_type": "markdown",
   "id": "f29d4b0f-65b5-4bbc-b22a-52bddc5e004f",
   "metadata": {},
   "source": [
    "# 6. Visualización de Embeddings con t-SNE"
   ]
  },
  {
   "cell_type": "code",
   "execution_count": 191,
   "id": "8d4c2783-a8e0-462a-9109-433f34b60f19",
   "metadata": {},
   "outputs": [],
   "source": [
    "from sklearn.manifold import TSNE\n",
    "import matplotlib.pyplot as plt\n",
    "\n",
    "def visualize_embeddings(embeddings, labels=None, title=\"Visualización de Embeddings\"):\n",
    "    # Convert the list of embeddings to a NumPy array\n",
    "    embeddings = np.array(embeddings)\n",
    "    \n",
    "    # Adjust the perplexity to be less than the number of samples\n",
    "    perplexity_value = min(embeddings.shape[0] - 1, 5)  # Set perplexity to 5 or less\n",
    "    \n",
    "    # Apply t-SNE to reduce the dimensionality of the embeddings to 2D\n",
    "    tsne = TSNE(n_components=2, perplexity=perplexity_value, random_state=42)\n",
    "    embeddings_2d = tsne.fit_transform(embeddings)\n",
    "\n",
    "    # Plot the reduced embeddings\n",
    "    plt.figure(figsize=(8, 6))\n",
    "    \n",
    "    # Plot each point\n",
    "    plt.scatter(embeddings_2d[:, 0], embeddings_2d[:, 1], c='blue', marker='o')\n",
    "    \n",
    "    # Ensure labels match the number of embeddings\n",
    "    if labels:\n",
    "        labels = labels[:embeddings_2d.shape[0]]  # Trim labels to the size of embeddings\n",
    "        for i, label in enumerate(labels):\n",
    "            plt.annotate(label, (embeddings_2d[i, 0], embeddings_2d[i, 1]))\n",
    "    \n",
    "    plt.title(title)\n",
    "    plt.show()"
   ]
  },
  {
   "cell_type": "code",
   "execution_count": 192,
   "id": "5e595cbf-4e66-4163-b646-a5b1d86c4dd6",
   "metadata": {},
   "outputs": [
    {
     "data": {
      "image/png": "[encoded data removed]",
      "text/plain": [
       "<Figure size 800x600 with 1 Axes>"
      ]
     },
     "metadata": {},
     "output_type": "display_data"
    }
   ],
   "source": [
    "visualize_embeddings(embeddings_answers, labels=user_questions)"
   ]
  },
  {
   "cell_type": "code",
   "execution_count": null,
   "id": "b676d724-ace2-45c3-923e-cf9083c78ad4",
   "metadata": {},
   "outputs": [],
   "source": []
  },
  {
   "cell_type": "code",
   "execution_count": null,
   "id": "0d9f559c-c2c3-46c9-a2e8-2e62d221d0ce",
   "metadata": {},
   "outputs": [],
   "source": []
  }
 ],
 "metadata": {
  "kernelspec": {
   "display_name": "Python 3 (ipykernel)",
   "language": "python",
   "name": "python3"
  },
  "language_info": {
   "codemirror_mode": {
    "name": "ipython",
    "version": 3
   },
   "file_extension": ".py",
   "mimetype": "text/x-python",
   "name": "python",
   "nbconvert_exporter": "python",
   "pygments_lexer": "ipython3",
   "version": "3.10.5"
  }
 },
 "nbformat": 4,
 "nbformat_minor": 5
}
